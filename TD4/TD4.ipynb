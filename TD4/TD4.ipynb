{
 "cells": [
  {
   "cell_type": "markdown",
   "metadata": {},
   "source": [
    "# TD4 : Inference"
   ]
  },
  {
   "cell_type": "markdown",
   "metadata": {},
   "source": [
    "## Libraries importation"
   ]
  },
  {
   "cell_type": "code",
   "execution_count": 48,
   "metadata": {},
   "outputs": [],
   "source": [
    "import torch\n",
    "import numpy as np\n",
    "import parametrization_cookbook.torch as pc"
   ]
  },
  {
   "cell_type": "markdown",
   "metadata": {},
   "source": [
    "## SBM function"
   ]
  },
  {
   "cell_type": "code",
   "execution_count": 71,
   "metadata": {},
   "outputs": [],
   "source": [
    "def SBM(n_nodes = 10, n_classes = 3, prob_classes = None, alpha = None, self_loop = False):\n",
    "    \"\"\"Generate SBM\"\"\"\n",
    "    if prob_classes is None:\n",
    "        prob_classes = np.ones(shape=n_classes) / n_classes\n",
    "    if alpha is None:\n",
    "        alpha = np.ones(shape=(n_classes, n_classes)) / 3\n",
    "        np.fill_diagonal(alpha, 2/3)\n",
    "    # Create Z, class vector\n",
    "    Z = np.random.choice([i for i in range(n_classes)], size=n_nodes, p=prob_classes)\n",
    "    # Generate bernouilli law\n",
    "    alpha_expanded = alpha[Z][:, Z]\n",
    "    X = np.random.binomial(n=1, p=alpha_expanded)\n",
    "    if not self_loop:\n",
    "        np.fill_diagonal(X, 0)\n",
    "    return Z, X"
   ]
  },
  {
   "cell_type": "markdown",
   "metadata": {},
   "source": [
    "## Variables"
   ]
  },
  {
   "cell_type": "code",
   "execution_count": 72,
   "metadata": {},
   "outputs": [],
   "source": [
    "n = 100\n",
    "K = 3\n",
    "param_gamma = pc.VectorSimplex(dim = K-1, shape=(n, ))\n",
    "param_pi = pc.VectorSimplex(dim=K-1)\n",
    "param_alpha = pc.RealBounded01(shape=(K,K))\n",
    "prob_classes = np.array([1/3, 1/3, 1/3])\n",
    "alpha = np.array([[2/3, 1/3, 1/3],\n",
    "         [1/3, 2/3, 1/3],\n",
    "         [1/3, 1/3, 2/3]])\n",
    "\n",
    "Z, X = SBM(n_nodes = n, n_classes=K, prob_classes=prob_classes, alpha=alpha)\n",
    "X_tensor = torch.tensor(X, dtype=torch.float32)\n",
    "Z_tensor = torch.tensor(Z, dtype=torch.int64)"
   ]
  },
  {
   "cell_type": "code",
   "execution_count": 73,
   "metadata": {},
   "outputs": [
    {
     "data": {
      "text/plain": [
       "(numpy.ndarray,\n",
       " numpy.ndarray,\n",
       " parametrization_cookbook.torch.VectorSimplex,\n",
       " parametrization_cookbook.torch.VectorSimplex,\n",
       " parametrization_cookbook.torch.RealBounded01)"
      ]
     },
     "execution_count": 73,
     "metadata": {},
     "output_type": "execute_result"
    }
   ],
   "source": [
    "type(Z), type(X), type(param_gamma), type(param_pi), type(param_alpha)"
   ]
  },
  {
   "cell_type": "code",
   "execution_count": 74,
   "metadata": {},
   "outputs": [],
   "source": [
    "def ELBO_from_unconstrained_params(gamma_prime, pi_prime, alpha_prime):\n",
    "    \"\"\"Return the ELBO from the unconstrained parameters\"\"\"\n",
    "    gamma = param_gamma.reals1d_to_params(gamma_prime)\n",
    "    pi = param_pi.reals1d_to_params(pi_prime)\n",
    "    alpha = param_alpha.reals1d_to_params(alpha_prime)\n",
    "\n",
    "    entropy = - torch.einsum(\"ik,ik->\", gamma, torch.log(gamma))\n",
    "    expectation_log_likelihood = (torch.einsum(\"ik,k->\", gamma, torch.log(pi)) \n",
    "                                  + torch.einsum(\"ik, jl,ij,kl->\", gamma, gamma, X_tensor, torch.log(alpha))\n",
    "                                  + torch.einsum(\"ik, jl,ij,kl->\", gamma, gamma, 1 - X_tensor, torch.log(1-alpha))) \n",
    "    return entropy + expectation_log_likelihood"
   ]
  },
  {
   "cell_type": "code",
   "execution_count": 75,
   "metadata": {},
   "outputs": [],
   "source": [
    "gp = torch.randn(param_gamma.size).clone().detach().requires_grad_(True)\n",
    "pp = torch.randn(param_pi.size).clone().detach().requires_grad_(True)\n",
    "ap = torch.randn(param_alpha.size).clone().detach().requires_grad_(True)"
   ]
  },
  {
   "cell_type": "code",
   "execution_count": 76,
   "metadata": {},
   "outputs": [
    {
     "name": "stdout",
     "output_type": "stream",
     "text": [
      "i = 0, - elbo = 7356.4443359375\n",
      "i = 1000, - elbo = 6605.58740234375\n",
      "i = 2000, - elbo = 6529.68896484375\n",
      "i = 3000, - elbo = 6495.92822265625\n",
      "i = 4000, - elbo = 6494.9912109375\n"
     ]
    }
   ],
   "source": [
    "optim = torch.optim.Adam([gp, pp, ap], lr=0.01)\n",
    "\n",
    "for i in range(5000):\n",
    "    optim.zero_grad()\n",
    "    elbo = ELBO_from_unconstrained_params(gp, pp, ap)\n",
    "    (-elbo).backward()\n",
    "    optim.step()\n",
    "    if i % 1000 == 0:\n",
    "        print(f\"i = {i}, - elbo = {-elbo.item()}\")"
   ]
  },
  {
   "cell_type": "code",
   "execution_count": 77,
   "metadata": {},
   "outputs": [
    {
     "data": {
      "text/plain": [
       "tensor([[1.1625e-04, 3.6981e-05, 9.9985e-01],\n",
       "        [1.3205e-04, 9.9975e-01, 1.1733e-04],\n",
       "        [9.9978e-01, 2.2140e-04, 1.2698e-06],\n",
       "        [9.9977e-01, 2.3250e-04, 8.0793e-07],\n",
       "        [5.8603e-05, 9.9989e-01, 5.5231e-05],\n",
       "        [9.8436e-05, 9.9988e-01, 2.0864e-05],\n",
       "        [9.9925e-01, 7.5067e-04, 2.3048e-06],\n",
       "        [1.5965e-04, 5.0752e-05, 9.9979e-01],\n",
       "        [7.6727e-05, 5.3790e-05, 9.9987e-01],\n",
       "        [1.5002e-04, 2.5013e-05, 9.9982e-01]], grad_fn=<SliceBackward0>)"
      ]
     },
     "execution_count": 77,
     "metadata": {},
     "output_type": "execute_result"
    }
   ],
   "source": [
    "param_gamma.reals1d_to_params(gp)[:10, :]"
   ]
  },
  {
   "cell_type": "code",
   "execution_count": 78,
   "metadata": {},
   "outputs": [
    {
     "data": {
      "text/plain": [
       "tensor([[0.6136, 0.3292, 0.3163],\n",
       "        [0.3499, 0.6224, 0.3324],\n",
       "        [0.3223, 0.3117, 0.6600]], grad_fn=<MulBackward0>)"
      ]
     },
     "execution_count": 78,
     "metadata": {},
     "output_type": "execute_result"
    }
   ],
   "source": [
    "param_alpha.reals1d_to_params(ap)"
   ]
  },
  {
   "cell_type": "code",
   "execution_count": 79,
   "metadata": {},
   "outputs": [
    {
     "data": {
      "text/plain": [
       "tensor([0.2597, 0.3404, 0.4000], grad_fn=<SoftmaxBackward0>)"
      ]
     },
     "execution_count": 79,
     "metadata": {},
     "output_type": "execute_result"
    }
   ],
   "source": [
    "param_pi.reals1d_to_params(pp)"
   ]
  }
 ],
 "metadata": {
  "kernelspec": {
   "display_name": "base",
   "language": "python",
   "name": "python3"
  },
  "language_info": {
   "codemirror_mode": {
    "name": "ipython",
    "version": 3
   },
   "file_extension": ".py",
   "mimetype": "text/x-python",
   "name": "python",
   "nbconvert_exporter": "python",
   "pygments_lexer": "ipython3",
   "version": "3.9.13"
  }
 },
 "nbformat": 4,
 "nbformat_minor": 2
}
