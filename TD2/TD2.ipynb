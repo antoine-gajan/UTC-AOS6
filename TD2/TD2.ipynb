{
 "cells": [
  {
   "cell_type": "markdown",
   "metadata": {},
   "source": [
    "# TD2 : Spectral methods"
   ]
  },
  {
   "cell_type": "code",
   "execution_count": 1,
   "metadata": {},
   "outputs": [],
   "source": [
    "import numpy as np\n",
    "import itertools\n",
    "from scipy.sparse import csr_matrix\n",
    "from scipy.sparse.csgraph import connected_components"
   ]
  },
  {
   "cell_type": "markdown",
   "metadata": {
    "vscode": {
     "languageId": "plaintext"
    }
   },
   "source": [
    "## Part 1"
   ]
  },
  {
   "cell_type": "markdown",
   "metadata": {},
   "source": [
    "### Load graph"
   ]
  },
  {
   "cell_type": "code",
   "execution_count": 2,
   "metadata": {},
   "outputs": [],
   "source": [
    "nodes = np.array([1, 2, 3, 4, 5, 6, 7, 8, 9, 10])\n",
    "edges = np.array([(1, 2), (2, 3), (3, 4), (5, 6), (5, 7), (6,7), (8, 10), (9, 10)])"
   ]
  },
  {
   "cell_type": "markdown",
   "metadata": {},
   "source": [
    "### Compute adjacency matrix"
   ]
  },
  {
   "cell_type": "code",
   "execution_count": 3,
   "metadata": {},
   "outputs": [],
   "source": [
    "\n",
    "def get_adjacency(nodes, edges):\n",
    "    adjacency_matrix = np.zeros(shape=(nodes.shape[0], nodes.shape[0]))\n",
    "    for (i, j) in edges:\n",
    "        adjacency_matrix[i - 1, j - 1] = 1\n",
    "        adjacency_matrix[j - 1, i - 1] = 1\n",
    "    return adjacency_matrix\n",
    "\n",
    "adjacency_matrix = get_adjacency(nodes, edges)"
   ]
  },
  {
   "cell_type": "markdown",
   "metadata": {},
   "source": [
    "### Compute degrees"
   ]
  },
  {
   "cell_type": "code",
   "execution_count": 4,
   "metadata": {},
   "outputs": [
    {
     "data": {
      "text/plain": [
       "array([[1., 0., 0., 0., 0., 0., 0., 0., 0., 0.],\n",
       "       [0., 2., 0., 0., 0., 0., 0., 0., 0., 0.],\n",
       "       [0., 0., 2., 0., 0., 0., 0., 0., 0., 0.],\n",
       "       [0., 0., 0., 1., 0., 0., 0., 0., 0., 0.],\n",
       "       [0., 0., 0., 0., 2., 0., 0., 0., 0., 0.],\n",
       "       [0., 0., 0., 0., 0., 2., 0., 0., 0., 0.],\n",
       "       [0., 0., 0., 0., 0., 0., 2., 0., 0., 0.],\n",
       "       [0., 0., 0., 0., 0., 0., 0., 1., 0., 0.],\n",
       "       [0., 0., 0., 0., 0., 0., 0., 0., 1., 0.],\n",
       "       [0., 0., 0., 0., 0., 0., 0., 0., 0., 2.]])"
      ]
     },
     "execution_count": 4,
     "metadata": {},
     "output_type": "execute_result"
    }
   ],
   "source": [
    "degrees = np.diag(np.sum(adjacency_matrix, axis = 0))\n",
    "degrees"
   ]
  },
  {
   "cell_type": "markdown",
   "metadata": {},
   "source": [
    "### Compute Laplacian"
   ]
  },
  {
   "cell_type": "code",
   "execution_count": 5,
   "metadata": {},
   "outputs": [
    {
     "data": {
      "text/plain": [
       "array([[ 1., -1.,  0.,  0.,  0.,  0.,  0.,  0.,  0.,  0.],\n",
       "       [-1.,  2., -1.,  0.,  0.,  0.,  0.,  0.,  0.,  0.],\n",
       "       [ 0., -1.,  2., -1.,  0.,  0.,  0.,  0.,  0.,  0.],\n",
       "       [ 0.,  0., -1.,  1.,  0.,  0.,  0.,  0.,  0.,  0.],\n",
       "       [ 0.,  0.,  0.,  0.,  2., -1., -1.,  0.,  0.,  0.],\n",
       "       [ 0.,  0.,  0.,  0., -1.,  2., -1.,  0.,  0.,  0.],\n",
       "       [ 0.,  0.,  0.,  0., -1., -1.,  2.,  0.,  0.,  0.],\n",
       "       [ 0.,  0.,  0.,  0.,  0.,  0.,  0.,  1.,  0., -1.],\n",
       "       [ 0.,  0.,  0.,  0.,  0.,  0.,  0.,  0.,  1., -1.],\n",
       "       [ 0.,  0.,  0.,  0.,  0.,  0.,  0., -1., -1.,  2.]])"
      ]
     },
     "execution_count": 5,
     "metadata": {},
     "output_type": "execute_result"
    }
   ],
   "source": [
    "L = degrees - adjacency_matrix\n",
    "L"
   ]
  },
  {
   "cell_type": "code",
   "execution_count": 6,
   "metadata": {},
   "outputs": [
    {
     "data": {
      "text/plain": [
       "(array([-9.74614466e-17,  0.00000000e+00,  9.99658224e-17,  5.85786438e-01,\n",
       "         1.00000000e+00,  2.00000000e+00,  3.00000000e+00,  3.00000000e+00,\n",
       "         3.00000000e+00,  3.41421356e+00]),\n",
       " array([[-5.00000000e-01, -0.00000000e+00,  0.00000000e+00,\n",
       "          6.53281482e-01,  0.00000000e+00,  5.00000000e-01,\n",
       "          0.00000000e+00,  0.00000000e+00,  0.00000000e+00,\n",
       "         -2.70598050e-01],\n",
       "        [-5.00000000e-01, -0.00000000e+00,  0.00000000e+00,\n",
       "          2.70598050e-01,  0.00000000e+00, -5.00000000e-01,\n",
       "          0.00000000e+00,  0.00000000e+00,  0.00000000e+00,\n",
       "          6.53281482e-01],\n",
       "        [-5.00000000e-01, -0.00000000e+00,  0.00000000e+00,\n",
       "         -2.70598050e-01,  0.00000000e+00, -5.00000000e-01,\n",
       "          0.00000000e+00,  0.00000000e+00,  0.00000000e+00,\n",
       "         -6.53281482e-01],\n",
       "        [-5.00000000e-01, -0.00000000e+00,  0.00000000e+00,\n",
       "         -6.53281482e-01,  0.00000000e+00,  5.00000000e-01,\n",
       "          0.00000000e+00,  0.00000000e+00,  0.00000000e+00,\n",
       "          2.70598050e-01],\n",
       "        [ 0.00000000e+00,  5.77350269e-01,  0.00000000e+00,\n",
       "          0.00000000e+00,  0.00000000e+00,  0.00000000e+00,\n",
       "          5.07662269e-01,  0.00000000e+00,  6.39488614e-01,\n",
       "          0.00000000e+00],\n",
       "        [ 0.00000000e+00,  5.77350269e-01,  0.00000000e+00,\n",
       "          0.00000000e+00,  0.00000000e+00,  0.00000000e+00,\n",
       "         -8.07644519e-01,  0.00000000e+00,  1.19904115e-01,\n",
       "          0.00000000e+00],\n",
       "        [ 0.00000000e+00,  5.77350269e-01,  0.00000000e+00,\n",
       "          0.00000000e+00,  0.00000000e+00,  0.00000000e+00,\n",
       "          2.99982250e-01,  0.00000000e+00, -7.59392729e-01,\n",
       "          0.00000000e+00],\n",
       "        [ 0.00000000e+00, -0.00000000e+00, -5.77350269e-01,\n",
       "          0.00000000e+00, -7.07106781e-01,  0.00000000e+00,\n",
       "          0.00000000e+00,  4.08248290e-01,  0.00000000e+00,\n",
       "          0.00000000e+00],\n",
       "        [ 0.00000000e+00, -0.00000000e+00, -5.77350269e-01,\n",
       "          0.00000000e+00,  7.07106781e-01,  0.00000000e+00,\n",
       "          0.00000000e+00,  4.08248290e-01,  0.00000000e+00,\n",
       "          0.00000000e+00],\n",
       "        [ 0.00000000e+00,  0.00000000e+00, -5.77350269e-01,\n",
       "          0.00000000e+00,  1.11022302e-16,  0.00000000e+00,\n",
       "          0.00000000e+00, -8.16496581e-01,  0.00000000e+00,\n",
       "          0.00000000e+00]]))"
      ]
     },
     "execution_count": 6,
     "metadata": {},
     "output_type": "execute_result"
    }
   ],
   "source": [
    "eigenvalues, eigenvectors = np.linalg.eigh(L)\n",
    "eigenvalues, eigenvectors"
   ]
  },
  {
   "cell_type": "markdown",
   "metadata": {},
   "source": [
    "Effectively, we have 3 eigenvalues equal to zero. Now, let's find the 3 eigenvectors, corresponding to the kernel of L."
   ]
  },
  {
   "cell_type": "code",
   "execution_count": 7,
   "metadata": {},
   "outputs": [
    {
     "data": {
      "text/plain": [
       "array([[-0.5       , -0.        ,  0.        ],\n",
       "       [-0.5       , -0.        ,  0.        ],\n",
       "       [-0.5       , -0.        ,  0.        ],\n",
       "       [-0.5       , -0.        ,  0.        ],\n",
       "       [ 0.        ,  0.57735027,  0.        ],\n",
       "       [ 0.        ,  0.57735027,  0.        ],\n",
       "       [ 0.        ,  0.57735027,  0.        ],\n",
       "       [ 0.        , -0.        , -0.57735027],\n",
       "       [ 0.        , -0.        , -0.57735027],\n",
       "       [ 0.        ,  0.        , -0.57735027]])"
      ]
     },
     "execution_count": 7,
     "metadata": {},
     "output_type": "execute_result"
    }
   ],
   "source": [
    "kernel = eigenvectors[:, :3]\n",
    "kernel"
   ]
  },
  {
   "cell_type": "markdown",
   "metadata": {},
   "source": [
    "## Part 2"
   ]
  },
  {
   "cell_type": "code",
   "execution_count": 57,
   "metadata": {},
   "outputs": [],
   "source": [
    "nodes = np.array([1, 2, 3, 4, 5, 6])\n",
    "edges = np.array([(1, 2), (2, 3), (3, 4), (4, 5), (5, 6), (2, 5), (3, 6), (6, 1)])"
   ]
  },
  {
   "cell_type": "markdown",
   "metadata": {},
   "source": [
    "### Compute ratio cut cost"
   ]
  },
  {
   "cell_type": "code",
   "execution_count": 58,
   "metadata": {},
   "outputs": [],
   "source": [
    "import itertools\n",
    "\n",
    "def powerset(iterable):\n",
    "    \"powerset([1,2,3]) --> () (1,) (2,) (3,) (1,2) (1,3) (2,3) (1,2,3)\"\n",
    "    s = list(iterable)\n",
    "    return itertools.chain.from_iterable(itertools.combinations(s, r) for r in range(len(s)+1))\n",
    "\n",
    "def generator_all_combinations(edges):\n",
    "    splitted_edges_set = powerset(edges)\n",
    "    for splitted_edges in splitted_edges_set:\n",
    "        yield splitted_edges\n",
    "\n",
    "\n",
    "\n",
    "splitted_edges_set = generator_all_combinations(edges)"
   ]
  },
  {
   "cell_type": "code",
   "execution_count": 59,
   "metadata": {},
   "outputs": [],
   "source": [
    "def get_partition(nodes, edges, splitted_edges):\n",
    "    \"\"\"Return partition from splitted edges\"\"\"\n",
    "    adjacency_matrix = get_adjacency(nodes, edges)\n",
    "    for edge in splitted_edges:\n",
    "        adjacency_matrix[edge[0] - 1, edge[1] - 1] = 0\n",
    "        adjacency_matrix[edge[1] - 1, edge[0] - 1] = 0\n",
    "    graph = csr_matrix(adjacency_matrix)\n",
    "    _, labels = connected_components(csgraph=graph, directed=False, return_labels=True)\n",
    "    return labels"
   ]
  },
  {
   "cell_type": "code",
   "execution_count": 60,
   "metadata": {},
   "outputs": [],
   "source": [
    "def ratiocut(nodes, edges, splitted_edges):\n",
    "    \"\"\"Return ratio cut for splitted edges\"\"\"\n",
    "    partition = get_partition(nodes, edges, splitted_edges)\n",
    "    ratio_cut = 0\n",
    "    for i in range(0, np.max(partition) + 1):\n",
    "        nodes_in_partition = np.where(partition == i)[0]\n",
    "        nodes_not_in_partition = np.where(partition != i)[0]\n",
    "        cut = np.sum(adjacency_matrix[nodes_in_partition, :][:, nodes_not_in_partition])\n",
    "        volume = nodes_in_partition.shape[0]\n",
    "        if volume != 0:\n",
    "            ratio_cut += cut / volume\n",
    "    return ratio_cut"
   ]
  },
  {
   "cell_type": "code",
   "execution_count": 61,
   "metadata": {},
   "outputs": [
    {
     "name": "stdout",
     "output_type": "stream",
     "text": [
      "Ratio cut for (array([1, 2]), array([6, 1])) is 2.4\n",
      "Ratio cut for (array([3, 4]), array([4, 5])) is 2.4\n",
      "Ratio cut for (array([1, 2]), array([2, 3]), array([2, 5])) is 3.6\n",
      "Ratio cut for (array([1, 2]), array([2, 3]), array([6, 1])) is 2.4\n",
      "Ratio cut for (array([1, 2]), array([3, 4]), array([4, 5])) is 2.4\n",
      "Ratio cut for (array([1, 2]), array([3, 4]), array([6, 1])) is 2.4\n",
      "Ratio cut for (array([1, 2]), array([4, 5]), array([6, 1])) is 2.4\n",
      "Ratio cut for (array([1, 2]), array([5, 6]), array([3, 6])) is 2.25\n",
      "Ratio cut for (array([1, 2]), array([5, 6]), array([6, 1])) is 2.4\n",
      "Ratio cut for (array([1, 2]), array([2, 5]), array([6, 1])) is 2.4\n",
      "Ratio cut for (array([1, 2]), array([3, 6]), array([6, 1])) is 2.4\n",
      "Ratio cut for (array([2, 3]), array([3, 4]), array([4, 5])) is 2.4\n",
      "Ratio cut for (array([2, 3]), array([3, 4]), array([3, 6])) is 3.6\n",
      "Ratio cut for (array([2, 3]), array([4, 5]), array([3, 6])) is 2.25\n",
      "Ratio cut for (array([2, 3]), array([2, 5]), array([6, 1])) is 2.25\n",
      "Ratio cut for (array([3, 4]), array([4, 5]), array([5, 6])) is 2.4\n",
      "Ratio cut for (array([3, 4]), array([4, 5]), array([2, 5])) is 2.4\n",
      "Ratio cut for (array([3, 4]), array([4, 5]), array([3, 6])) is 2.4\n",
      "Ratio cut for (array([3, 4]), array([4, 5]), array([6, 1])) is 2.4\n",
      "Ratio cut for (array([3, 4]), array([5, 6]), array([2, 5])) is 2.25\n",
      "Ratio cut for (array([4, 5]), array([5, 6]), array([2, 5])) is 3.6\n",
      "Ratio cut for (array([5, 6]), array([3, 6]), array([6, 1])) is 3.6\n",
      "Ratio cut for (array([1, 2]), array([2, 3]), array([3, 4]), array([4, 5])) is 2.4\n",
      "Ratio cut for (array([1, 2]), array([2, 3]), array([3, 4]), array([5, 6])) is 2.6666666666666665\n",
      "Ratio cut for (array([1, 2]), array([2, 3]), array([3, 4]), array([2, 5])) is 3.6\n",
      "Ratio cut for (array([1, 2]), array([2, 3]), array([3, 4]), array([3, 6])) is 3.6\n",
      "Ratio cut for (array([1, 2]), array([2, 3]), array([3, 4]), array([6, 1])) is 2.4\n",
      "Ratio cut for (array([1, 2]), array([2, 3]), array([4, 5]), array([5, 6])) is 3.0\n",
      "Ratio cut for (array([1, 2]), array([2, 3]), array([4, 5]), array([2, 5])) is 3.6\n",
      "Ratio cut for (array([1, 2]), array([2, 3]), array([4, 5]), array([3, 6])) is 2.25\n",
      "Ratio cut for (array([1, 2]), array([2, 3]), array([4, 5]), array([6, 1])) is 2.4\n",
      "Ratio cut for (array([1, 2]), array([2, 3]), array([5, 6]), array([2, 5])) is 3.6\n",
      "Ratio cut for (array([1, 2]), array([2, 3]), array([5, 6]), array([3, 6])) is 2.25\n",
      "Ratio cut for (array([1, 2]), array([2, 3]), array([5, 6]), array([6, 1])) is 2.4\n",
      "Ratio cut for (array([1, 2]), array([2, 3]), array([2, 5]), array([3, 6])) is 3.6\n",
      "Ratio cut for (array([1, 2]), array([2, 3]), array([2, 5]), array([6, 1])) is 5.75\n",
      "Ratio cut for (array([1, 2]), array([2, 3]), array([3, 6]), array([6, 1])) is 2.4\n",
      "Ratio cut for (array([1, 2]), array([3, 4]), array([4, 5]), array([5, 6])) is 2.4\n",
      "Ratio cut for (array([1, 2]), array([3, 4]), array([4, 5]), array([2, 5])) is 2.4\n",
      "Ratio cut for (array([1, 2]), array([3, 4]), array([4, 5]), array([3, 6])) is 2.4\n",
      "Ratio cut for (array([1, 2]), array([3, 4]), array([4, 5]), array([6, 1])) is 5.0\n",
      "Ratio cut for (array([1, 2]), array([3, 4]), array([5, 6]), array([2, 5])) is 2.25\n",
      "Ratio cut for (array([1, 2]), array([3, 4]), array([5, 6]), array([3, 6])) is 2.25\n",
      "Ratio cut for (array([1, 2]), array([3, 4]), array([5, 6]), array([6, 1])) is 2.4\n",
      "Ratio cut for (array([1, 2]), array([3, 4]), array([2, 5]), array([3, 6])) is 3.0\n",
      "Ratio cut for (array([1, 2]), array([3, 4]), array([2, 5]), array([6, 1])) is 2.4\n",
      "Ratio cut for (array([1, 2]), array([3, 4]), array([3, 6]), array([6, 1])) is 2.4\n",
      "Ratio cut for (array([1, 2]), array([4, 5]), array([5, 6]), array([2, 5])) is 3.6\n",
      "Ratio cut for (array([1, 2]), array([4, 5]), array([5, 6]), array([3, 6])) is 2.25\n",
      "Ratio cut for (array([1, 2]), array([4, 5]), array([5, 6]), array([6, 1])) is 2.4\n",
      "Ratio cut for (array([1, 2]), array([4, 5]), array([2, 5]), array([3, 6])) is 2.6666666666666665\n",
      "Ratio cut for (array([1, 2]), array([4, 5]), array([2, 5]), array([6, 1])) is 2.4\n",
      "Ratio cut for (array([1, 2]), array([4, 5]), array([3, 6]), array([6, 1])) is 2.4\n",
      "Ratio cut for (array([1, 2]), array([5, 6]), array([2, 5]), array([3, 6])) is 2.25\n",
      "Ratio cut for (array([1, 2]), array([5, 6]), array([2, 5]), array([6, 1])) is 2.4\n",
      "Ratio cut for (array([1, 2]), array([5, 6]), array([3, 6]), array([6, 1])) is 5.75\n",
      "Ratio cut for (array([1, 2]), array([2, 5]), array([3, 6]), array([6, 1])) is 2.4\n",
      "Ratio cut for (array([2, 3]), array([3, 4]), array([4, 5]), array([5, 6])) is 2.4\n",
      "Ratio cut for (array([2, 3]), array([3, 4]), array([4, 5]), array([2, 5])) is 2.4\n",
      "Ratio cut for (array([2, 3]), array([3, 4]), array([4, 5]), array([3, 6])) is 5.75\n",
      "Ratio cut for (array([2, 3]), array([3, 4]), array([4, 5]), array([6, 1])) is 2.4\n",
      "Ratio cut for (array([2, 3]), array([3, 4]), array([5, 6]), array([2, 5])) is 2.25\n",
      "Ratio cut for (array([2, 3]), array([3, 4]), array([5, 6]), array([3, 6])) is 3.6\n",
      "Ratio cut for (array([2, 3]), array([3, 4]), array([5, 6]), array([6, 1])) is 3.0\n",
      "Ratio cut for (array([2, 3]), array([3, 4]), array([2, 5]), array([3, 6])) is 3.6\n",
      "Ratio cut for (array([2, 3]), array([3, 4]), array([2, 5]), array([6, 1])) is 2.25\n",
      "Ratio cut for (array([2, 3]), array([3, 4]), array([3, 6]), array([6, 1])) is 3.6\n",
      "Ratio cut for (array([2, 3]), array([4, 5]), array([5, 6]), array([2, 5])) is 3.6\n",
      "Ratio cut for (array([2, 3]), array([4, 5]), array([5, 6]), array([3, 6])) is 2.25\n",
      "Ratio cut for (array([2, 3]), array([4, 5]), array([5, 6]), array([6, 1])) is 2.6666666666666665\n",
      "Ratio cut for (array([2, 3]), array([4, 5]), array([2, 5]), array([3, 6])) is 2.25\n",
      "Ratio cut for (array([2, 3]), array([4, 5]), array([2, 5]), array([6, 1])) is 2.25\n",
      "Ratio cut for (array([2, 3]), array([4, 5]), array([3, 6]), array([6, 1])) is 2.25\n",
      "Ratio cut for (array([2, 3]), array([5, 6]), array([2, 5]), array([3, 6])) is 2.6666666666666665\n",
      "Ratio cut for (array([2, 3]), array([5, 6]), array([2, 5]), array([6, 1])) is 2.25\n",
      "Ratio cut for (array([2, 3]), array([5, 6]), array([3, 6]), array([6, 1])) is 3.6\n",
      "Ratio cut for (array([2, 3]), array([2, 5]), array([3, 6]), array([6, 1])) is 2.25\n",
      "Ratio cut for (array([3, 4]), array([4, 5]), array([5, 6]), array([2, 5])) is 5.75\n",
      "Ratio cut for (array([3, 4]), array([4, 5]), array([5, 6]), array([3, 6])) is 2.4\n",
      "Ratio cut for (array([3, 4]), array([4, 5]), array([5, 6]), array([6, 1])) is 2.4\n",
      "Ratio cut for (array([3, 4]), array([4, 5]), array([2, 5]), array([3, 6])) is 2.4\n",
      "Ratio cut for (array([3, 4]), array([4, 5]), array([2, 5]), array([6, 1])) is 2.4\n",
      "Ratio cut for (array([3, 4]), array([4, 5]), array([3, 6]), array([6, 1])) is 2.4\n",
      "Ratio cut for (array([3, 4]), array([5, 6]), array([2, 5]), array([3, 6])) is 2.25\n",
      "Ratio cut for (array([3, 4]), array([5, 6]), array([2, 5]), array([6, 1])) is 2.25\n",
      "Ratio cut for (array([3, 4]), array([5, 6]), array([3, 6]), array([6, 1])) is 3.6\n",
      "Ratio cut for (array([3, 4]), array([2, 5]), array([3, 6]), array([6, 1])) is 2.6666666666666665\n",
      "Ratio cut for (array([4, 5]), array([5, 6]), array([2, 5]), array([3, 6])) is 3.6\n",
      "Ratio cut for (array([4, 5]), array([5, 6]), array([2, 5]), array([6, 1])) is 3.6\n",
      "Ratio cut for (array([4, 5]), array([5, 6]), array([3, 6]), array([6, 1])) is 3.6\n",
      "Ratio cut for (array([4, 5]), array([2, 5]), array([3, 6]), array([6, 1])) is 3.0\n",
      "Ratio cut for (array([5, 6]), array([2, 5]), array([3, 6]), array([6, 1])) is 3.6\n",
      "Ratio cut for (array([1, 2]), array([2, 3]), array([3, 4]), array([4, 5]), array([5, 6])) is 5.333333333333333\n",
      "Ratio cut for (array([1, 2]), array([2, 3]), array([3, 4]), array([4, 5]), array([2, 5])) is 6.25\n",
      "Ratio cut for (array([1, 2]), array([2, 3]), array([3, 4]), array([4, 5]), array([3, 6])) is 5.75\n",
      "Ratio cut for (array([1, 2]), array([2, 3]), array([3, 4]), array([4, 5]), array([6, 1])) is 5.0\n",
      "Ratio cut for (array([1, 2]), array([2, 3]), array([3, 4]), array([5, 6]), array([2, 5])) is 5.833333333333333\n",
      "Ratio cut for (array([1, 2]), array([2, 3]), array([3, 4]), array([5, 6]), array([3, 6])) is 5.833333333333333\n",
      "Ratio cut for (array([1, 2]), array([2, 3]), array([3, 4]), array([5, 6]), array([6, 1])) is 5.333333333333333\n",
      "Ratio cut for (array([1, 2]), array([2, 3]), array([3, 4]), array([2, 5]), array([3, 6])) is 7.0\n",
      "Ratio cut for (array([1, 2]), array([2, 3]), array([3, 4]), array([2, 5]), array([6, 1])) is 5.75\n",
      "Ratio cut for (array([1, 2]), array([2, 3]), array([3, 4]), array([3, 6]), array([6, 1])) is 6.25\n",
      "Ratio cut for (array([1, 2]), array([2, 3]), array([4, 5]), array([5, 6]), array([2, 5])) is 7.0\n",
      "Ratio cut for (array([1, 2]), array([2, 3]), array([4, 5]), array([5, 6]), array([3, 6])) is 5.0\n",
      "Ratio cut for (array([1, 2]), array([2, 3]), array([4, 5]), array([5, 6]), array([6, 1])) is 5.333333333333333\n",
      "Ratio cut for (array([1, 2]), array([2, 3]), array([4, 5]), array([2, 5]), array([3, 6])) is 5.833333333333333\n",
      "Ratio cut for (array([1, 2]), array([2, 3]), array([4, 5]), array([2, 5]), array([6, 1])) is 5.75\n",
      "Ratio cut for (array([1, 2]), array([2, 3]), array([4, 5]), array([3, 6]), array([6, 1])) is 5.166666666666667\n",
      "Ratio cut for (array([1, 2]), array([2, 3]), array([5, 6]), array([2, 5]), array([3, 6])) is 5.833333333333333\n",
      "Ratio cut for (array([1, 2]), array([2, 3]), array([5, 6]), array([2, 5]), array([6, 1])) is 5.75\n",
      "Ratio cut for (array([1, 2]), array([2, 3]), array([5, 6]), array([3, 6]), array([6, 1])) is 5.75\n",
      "Ratio cut for (array([1, 2]), array([2, 3]), array([2, 5]), array([3, 6]), array([6, 1])) is 5.75\n",
      "Ratio cut for (array([1, 2]), array([3, 4]), array([4, 5]), array([5, 6]), array([2, 5])) is 5.75\n",
      "Ratio cut for (array([1, 2]), array([3, 4]), array([4, 5]), array([5, 6]), array([3, 6])) is 5.166666666666667\n",
      "Ratio cut for (array([1, 2]), array([3, 4]), array([4, 5]), array([5, 6]), array([6, 1])) is 5.0\n",
      "Ratio cut for (array([1, 2]), array([3, 4]), array([4, 5]), array([2, 5]), array([3, 6])) is 5.333333333333333\n",
      "Ratio cut for (array([1, 2]), array([3, 4]), array([4, 5]), array([2, 5]), array([6, 1])) is 5.0\n",
      "Ratio cut for (array([1, 2]), array([3, 4]), array([4, 5]), array([3, 6]), array([6, 1])) is 5.0\n",
      "Ratio cut for (array([1, 2]), array([3, 4]), array([5, 6]), array([2, 5]), array([3, 6])) is 5.0\n",
      "Ratio cut for (array([1, 2]), array([3, 4]), array([5, 6]), array([2, 5]), array([6, 1])) is 5.166666666666667\n",
      "Ratio cut for (array([1, 2]), array([3, 4]), array([5, 6]), array([3, 6]), array([6, 1])) is 5.75\n",
      "Ratio cut for (array([1, 2]), array([3, 4]), array([2, 5]), array([3, 6]), array([6, 1])) is 5.333333333333333\n",
      "Ratio cut for (array([1, 2]), array([4, 5]), array([5, 6]), array([2, 5]), array([3, 6])) is 5.833333333333333\n",
      "Ratio cut for (array([1, 2]), array([4, 5]), array([5, 6]), array([2, 5]), array([6, 1])) is 6.25\n",
      "Ratio cut for (array([1, 2]), array([4, 5]), array([5, 6]), array([3, 6]), array([6, 1])) is 5.75\n",
      "Ratio cut for (array([1, 2]), array([4, 5]), array([2, 5]), array([3, 6]), array([6, 1])) is 5.333333333333333\n",
      "Ratio cut for (array([1, 2]), array([5, 6]), array([2, 5]), array([3, 6]), array([6, 1])) is 5.75\n",
      "Ratio cut for (array([2, 3]), array([3, 4]), array([4, 5]), array([5, 6]), array([2, 5])) is 5.75\n",
      "Ratio cut for (array([2, 3]), array([3, 4]), array([4, 5]), array([5, 6]), array([3, 6])) is 5.75\n",
      "Ratio cut for (array([2, 3]), array([3, 4]), array([4, 5]), array([5, 6]), array([6, 1])) is 5.333333333333333\n",
      "Ratio cut for (array([2, 3]), array([3, 4]), array([4, 5]), array([2, 5]), array([3, 6])) is 5.75\n",
      "Ratio cut for (array([2, 3]), array([3, 4]), array([4, 5]), array([2, 5]), array([6, 1])) is 5.166666666666667\n",
      "Ratio cut for (array([2, 3]), array([3, 4]), array([4, 5]), array([3, 6]), array([6, 1])) is 5.75\n",
      "Ratio cut for (array([2, 3]), array([3, 4]), array([5, 6]), array([2, 5]), array([3, 6])) is 5.833333333333333\n",
      "Ratio cut for (array([2, 3]), array([3, 4]), array([5, 6]), array([2, 5]), array([6, 1])) is 5.0\n",
      "Ratio cut for (array([2, 3]), array([3, 4]), array([5, 6]), array([3, 6]), array([6, 1])) is 7.0\n",
      "Ratio cut for (array([2, 3]), array([3, 4]), array([2, 5]), array([3, 6]), array([6, 1])) is 5.833333333333333\n",
      "Ratio cut for (array([2, 3]), array([4, 5]), array([5, 6]), array([2, 5]), array([3, 6])) is 5.833333333333333\n",
      "Ratio cut for (array([2, 3]), array([4, 5]), array([5, 6]), array([2, 5]), array([6, 1])) is 5.833333333333333\n",
      "Ratio cut for (array([2, 3]), array([4, 5]), array([5, 6]), array([3, 6]), array([6, 1])) is 5.833333333333333\n",
      "Ratio cut for (array([2, 3]), array([4, 5]), array([2, 5]), array([3, 6]), array([6, 1])) is 5.0\n",
      "Ratio cut for (array([2, 3]), array([5, 6]), array([2, 5]), array([3, 6]), array([6, 1])) is 5.833333333333333\n",
      "Ratio cut for (array([3, 4]), array([4, 5]), array([5, 6]), array([2, 5]), array([3, 6])) is 5.75\n",
      "Ratio cut for (array([3, 4]), array([4, 5]), array([5, 6]), array([2, 5]), array([6, 1])) is 5.75\n",
      "Ratio cut for (array([3, 4]), array([4, 5]), array([5, 6]), array([3, 6]), array([6, 1])) is 6.25\n",
      "Ratio cut for (array([3, 4]), array([4, 5]), array([2, 5]), array([3, 6]), array([6, 1])) is 5.333333333333333\n",
      "Ratio cut for (array([3, 4]), array([5, 6]), array([2, 5]), array([3, 6]), array([6, 1])) is 5.833333333333333\n",
      "Ratio cut for (array([4, 5]), array([5, 6]), array([2, 5]), array([3, 6]), array([6, 1])) is 7.0\n",
      "Ratio cut for (array([1, 2]), array([2, 3]), array([3, 4]), array([4, 5]), array([5, 6]), array([2, 5])) is 9.333333333333332\n",
      "Ratio cut for (array([1, 2]), array([2, 3]), array([3, 4]), array([4, 5]), array([5, 6]), array([3, 6])) is 8.5\n",
      "Ratio cut for (array([1, 2]), array([2, 3]), array([3, 4]), array([4, 5]), array([5, 6]), array([6, 1])) is 8.0\n",
      "Ratio cut for (array([1, 2]), array([2, 3]), array([3, 4]), array([4, 5]), array([2, 5]), array([3, 6])) is 9.333333333333332\n",
      "Ratio cut for (array([1, 2]), array([2, 3]), array([3, 4]), array([4, 5]), array([2, 5]), array([6, 1])) is 8.666666666666668\n",
      "Ratio cut for (array([1, 2]), array([2, 3]), array([3, 4]), array([4, 5]), array([3, 6]), array([6, 1])) is 8.666666666666668\n",
      "Ratio cut for (array([1, 2]), array([2, 3]), array([3, 4]), array([5, 6]), array([2, 5]), array([3, 6])) is 9.0\n",
      "Ratio cut for (array([1, 2]), array([2, 3]), array([3, 4]), array([5, 6]), array([2, 5]), array([6, 1])) is 8.5\n",
      "Ratio cut for (array([1, 2]), array([2, 3]), array([3, 4]), array([5, 6]), array([3, 6]), array([6, 1])) is 9.333333333333332\n",
      "Ratio cut for (array([1, 2]), array([2, 3]), array([3, 4]), array([2, 5]), array([3, 6]), array([6, 1])) is 9.333333333333334\n",
      "Ratio cut for (array([1, 2]), array([2, 3]), array([4, 5]), array([5, 6]), array([2, 5]), array([3, 6])) is 9.0\n",
      "Ratio cut for (array([1, 2]), array([2, 3]), array([4, 5]), array([5, 6]), array([2, 5]), array([6, 1])) is 9.333333333333332\n",
      "Ratio cut for (array([1, 2]), array([2, 3]), array([4, 5]), array([5, 6]), array([3, 6]), array([6, 1])) is 8.5\n",
      "Ratio cut for (array([1, 2]), array([2, 3]), array([4, 5]), array([2, 5]), array([3, 6]), array([6, 1])) is 8.5\n",
      "Ratio cut for (array([1, 2]), array([2, 3]), array([5, 6]), array([2, 5]), array([3, 6]), array([6, 1])) is 9.333333333333332\n",
      "Ratio cut for (array([1, 2]), array([3, 4]), array([4, 5]), array([5, 6]), array([2, 5]), array([3, 6])) is 8.5\n",
      "Ratio cut for (array([1, 2]), array([3, 4]), array([4, 5]), array([5, 6]), array([2, 5]), array([6, 1])) is 8.666666666666668\n",
      "Ratio cut for (array([1, 2]), array([3, 4]), array([4, 5]), array([5, 6]), array([3, 6]), array([6, 1])) is 8.666666666666668\n",
      "Ratio cut for (array([1, 2]), array([3, 4]), array([4, 5]), array([2, 5]), array([3, 6]), array([6, 1])) is 8.0\n",
      "Ratio cut for (array([1, 2]), array([3, 4]), array([5, 6]), array([2, 5]), array([3, 6]), array([6, 1])) is 8.5\n",
      "Ratio cut for (array([1, 2]), array([4, 5]), array([5, 6]), array([2, 5]), array([3, 6]), array([6, 1])) is 9.333333333333332\n",
      "Ratio cut for (array([2, 3]), array([3, 4]), array([4, 5]), array([5, 6]), array([2, 5]), array([3, 6])) is 9.333333333333332\n",
      "Ratio cut for (array([2, 3]), array([3, 4]), array([4, 5]), array([5, 6]), array([2, 5]), array([6, 1])) is 8.5\n",
      "Ratio cut for (array([2, 3]), array([3, 4]), array([4, 5]), array([5, 6]), array([3, 6]), array([6, 1])) is 9.333333333333332\n",
      "Ratio cut for (array([2, 3]), array([3, 4]), array([4, 5]), array([2, 5]), array([3, 6]), array([6, 1])) is 8.5\n",
      "Ratio cut for (array([2, 3]), array([3, 4]), array([5, 6]), array([2, 5]), array([3, 6]), array([6, 1])) is 9.0\n",
      "Ratio cut for (array([2, 3]), array([4, 5]), array([5, 6]), array([2, 5]), array([3, 6]), array([6, 1])) is 9.0\n",
      "Ratio cut for (array([3, 4]), array([4, 5]), array([5, 6]), array([2, 5]), array([3, 6]), array([6, 1])) is 9.333333333333332\n",
      "Ratio cut for (array([1, 2]), array([2, 3]), array([3, 4]), array([4, 5]), array([5, 6]), array([2, 5]), array([3, 6])) is 12.5\n",
      "Ratio cut for (array([1, 2]), array([2, 3]), array([3, 4]), array([4, 5]), array([5, 6]), array([2, 5]), array([6, 1])) is 12.0\n",
      "Ratio cut for (array([1, 2]), array([2, 3]), array([3, 4]), array([4, 5]), array([5, 6]), array([3, 6]), array([6, 1])) is 12.0\n",
      "Ratio cut for (array([1, 2]), array([2, 3]), array([3, 4]), array([4, 5]), array([2, 5]), array([3, 6]), array([6, 1])) is 12.0\n",
      "Ratio cut for (array([1, 2]), array([2, 3]), array([3, 4]), array([5, 6]), array([2, 5]), array([3, 6]), array([6, 1])) is 12.5\n",
      "Ratio cut for (array([1, 2]), array([2, 3]), array([4, 5]), array([5, 6]), array([2, 5]), array([3, 6]), array([6, 1])) is 12.5\n",
      "Ratio cut for (array([1, 2]), array([3, 4]), array([4, 5]), array([5, 6]), array([2, 5]), array([3, 6]), array([6, 1])) is 12.0\n",
      "Ratio cut for (array([2, 3]), array([3, 4]), array([4, 5]), array([5, 6]), array([2, 5]), array([3, 6]), array([6, 1])) is 12.5\n",
      "Ratio cut for (array([1, 2]), array([2, 3]), array([3, 4]), array([4, 5]), array([5, 6]), array([2, 5]), array([3, 6]), array([6, 1])) is 16.0\n",
      "Optimal cut is 2.25 for partition [0 1 1 1 1 0] and splitted edges (array([1, 2]), array([5, 6]), array([3, 6]))\n"
     ]
    }
   ],
   "source": [
    "optimal_cut = np.inf\n",
    "optimal_partition = None\n",
    "optimal_splitted_edges = None\n",
    "for index, splitted_edges in enumerate(generator_all_combinations(edges)):\n",
    "    # Check if the partition is valid, and if it is, calculate the ratio cut\n",
    "    partition = get_partition(nodes, edges, splitted_edges)\n",
    "    if np.max(partition) >= 1:\n",
    "        ratio_cut = ratiocut(nodes, edges, splitted_edges)\n",
    "        # Check if the ratio cut is better than the previous optimal\n",
    "        if ratio_cut < optimal_cut:\n",
    "            optimal_cut = ratio_cut\n",
    "            optimal_partition = partition\n",
    "            optimal_splitted_edges = splitted_edges\n",
    "        print(f\"Ratio cut for {splitted_edges} is {ratiocut(nodes, edges, splitted_edges)}\")\n",
    "print(f\"Optimal cut is {optimal_cut} for partition {optimal_partition} and splitted edges {optimal_splitted_edges}\")"
   ]
  },
  {
   "cell_type": "markdown",
   "metadata": {},
   "source": [
    "### 2nd smallest eigenvalue"
   ]
  },
  {
   "cell_type": "code",
   "execution_count": 62,
   "metadata": {},
   "outputs": [
    {
     "data": {
      "text/plain": [
       "array([[0., 1., 0., 0., 0., 1.],\n",
       "       [1., 0., 1., 0., 1., 0.],\n",
       "       [0., 1., 0., 1., 0., 1.],\n",
       "       [0., 0., 1., 0., 1., 0.],\n",
       "       [0., 1., 0., 1., 0., 1.],\n",
       "       [1., 0., 1., 0., 1., 0.]])"
      ]
     },
     "execution_count": 62,
     "metadata": {},
     "output_type": "execute_result"
    }
   ],
   "source": [
    "adjacency_matrix = get_adjacency(nodes, edges)\n",
    "adjacency_matrix"
   ]
  },
  {
   "cell_type": "code",
   "execution_count": 63,
   "metadata": {},
   "outputs": [
    {
     "data": {
      "text/plain": [
       "array([[2., 0., 0., 0., 0., 0.],\n",
       "       [0., 3., 0., 0., 0., 0.],\n",
       "       [0., 0., 3., 0., 0., 0.],\n",
       "       [0., 0., 0., 2., 0., 0.],\n",
       "       [0., 0., 0., 0., 3., 0.],\n",
       "       [0., 0., 0., 0., 0., 3.]])"
      ]
     },
     "execution_count": 63,
     "metadata": {},
     "output_type": "execute_result"
    }
   ],
   "source": [
    "degrees = np.diag(np.sum(adjacency_matrix, axis = 0))\n",
    "degrees"
   ]
  },
  {
   "cell_type": "code",
   "execution_count": 64,
   "metadata": {},
   "outputs": [
    {
     "data": {
      "text/plain": [
       "array([[ 2., -1.,  0.,  0.,  0., -1.],\n",
       "       [-1.,  3., -1.,  0., -1.,  0.],\n",
       "       [ 0., -1.,  3., -1.,  0., -1.],\n",
       "       [ 0.,  0., -1.,  2., -1.,  0.],\n",
       "       [ 0., -1.,  0., -1.,  3., -1.],\n",
       "       [-1.,  0., -1.,  0., -1.,  3.]])"
      ]
     },
     "execution_count": 64,
     "metadata": {},
     "output_type": "execute_result"
    }
   ],
   "source": [
    "L = degrees - adjacency_matrix\n",
    "L"
   ]
  },
  {
   "cell_type": "code",
   "execution_count": 65,
   "metadata": {},
   "outputs": [
    {
     "data": {
      "text/plain": [
       "(array([-4.13783009e-16,  1.43844719e+00,  3.00000000e+00,  3.00000000e+00,\n",
       "         3.00000000e+00,  5.56155281e+00]),\n",
       " array([[-4.08248290e-01,  6.57192300e-01, -4.90568122e-02,\n",
       "         -5.75262342e-01,  0.00000000e+00,  2.60956474e-01],\n",
       "        [-4.08248290e-01,  1.84524092e-01, -6.28487297e-01,\n",
       "          3.43318579e-01, -2.65460739e-01, -4.64705132e-01],\n",
       "        [-4.08248290e-01, -1.84524092e-01, -2.39972322e-01,\n",
       "          3.10187076e-01,  6.55385838e-01,  4.64705132e-01],\n",
       "        [-4.08248290e-01, -6.57192300e-01, -4.90568122e-02,\n",
       "         -5.75262342e-01, -7.87104167e-17, -2.60956474e-01],\n",
       "        [-4.08248290e-01, -1.84524092e-01,  2.89029134e-01,\n",
       "          2.65075266e-01, -6.55385838e-01,  4.64705132e-01],\n",
       "        [-4.08248290e-01,  1.84524092e-01,  6.77544109e-01,\n",
       "          2.31943763e-01,  2.65460739e-01, -4.64705132e-01]]))"
      ]
     },
     "execution_count": 65,
     "metadata": {},
     "output_type": "execute_result"
    }
   ],
   "source": [
    "eigenvalues, eigenvectors = np.linalg.eigh(L)\n",
    "eigenvalues, eigenvectors"
   ]
  },
  {
   "cell_type": "code",
   "execution_count": 66,
   "metadata": {},
   "outputs": [
    {
     "data": {
      "text/plain": [
       "array([ 0.6571923 ,  0.18452409, -0.18452409, -0.6571923 , -0.18452409,\n",
       "        0.18452409])"
      ]
     },
     "execution_count": 66,
     "metadata": {},
     "output_type": "execute_result"
    }
   ],
   "source": [
    "kernel = eigenvectors[:, 1]\n",
    "kernel"
   ]
  }
 ],
 "metadata": {
  "kernelspec": {
   "display_name": "Python 3",
   "language": "python",
   "name": "python3"
  },
  "language_info": {
   "codemirror_mode": {
    "name": "ipython",
    "version": 3
   },
   "file_extension": ".py",
   "mimetype": "text/x-python",
   "name": "python",
   "nbconvert_exporter": "python",
   "pygments_lexer": "ipython3",
   "version": "3.9.13"
  }
 },
 "nbformat": 4,
 "nbformat_minor": 2
}
